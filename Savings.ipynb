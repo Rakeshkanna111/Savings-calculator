{
 "cells": [
  {
   "cell_type": "code",
   "execution_count": 7,
   "metadata": {},
   "outputs": [],
   "source": [
    "import pandas as pd\n",
    "import matplotlib.pyplot as plt\n",
    "import numpy as np\n",
    "DF = pd.read_csv('Savings.csv')"
   ]
  },
  {
   "cell_type": "code",
   "execution_count": 29,
   "metadata": {},
   "outputs": [],
   "source": [
    "class Savings:      \n",
    "    \n",
    "    def totalMoneySaved(self):\n",
    "        totalAmountSaved = np.array(DF['Amount_Saved'])\n",
    "        totalAmountSaved = 1225 + np.sum(totalAmountSaved)\n",
    "        print(totalAmountSaved)\n",
    "        \n",
    "        \n",
    "    def showDataframe(self):\n",
    "        if 'Unnamed: 0' in DF.columns:\n",
    "            del DF['Unnamed: 0']        \n",
    "        print(DF)\n",
    "        \n",
    "        \n",
    "    def update(self,date,amountSaved):\n",
    "        global DF\n",
    "        Date = list(DF['Date'])\n",
    "        Date.append(date)\n",
    "    \n",
    "        AmountSaved = list(DF['Amount_Saved'])\n",
    "        AmountSaved.append(amountSaved)\n",
    "    \n",
    "        total = list(DF['Total'])\n",
    "        total.append('nan')\n",
    "    \n",
    "        DF = pd.DataFrame({'Date' : Date, 'Amount_Saved' : AmountSaved , \"Total\" : total})\n",
    "        \n",
    "        def updateTotal():\n",
    "            money = 1225\n",
    "            global lst \n",
    "            lst = []\n",
    "            for i in DF['Amount_Saved']:\n",
    "                lst.append(i + money)\n",
    "                money = i + money\n",
    "            DF['Total'] = lst\n",
    "            print(DF)\n",
    "        updateTotal()\n",
    "        \n",
    "        \n",
    "    def showPlot(self):\n",
    "        plt.bar(np.array(DF['Date']),np.array(DF['Total']),color ='dodgerblue')\n",
    "        plt.title('Savings')\n",
    "        plt.xlabel('Date')\n",
    "        plt.ylabel('Amount')\n",
    "        \n",
    "    def Save(self):\n",
    "        DF.to_csv('Savings.csv')\n",
    "        print('Sucessfully Saved')\n",
    "\n",
    "        \n",
    "Savings = Savings()"
   ]
  },
  {
   "cell_type": "code",
   "execution_count": 30,
   "metadata": {},
   "outputs": [
    {
     "data": {
      "image/png": "[encoded data removed]",
      "text/plain": [
       "<Figure size 432x288 with 1 Axes>"
      ]
     },
     "metadata": {
      "needs_background": "light"
     },
     "output_type": "display_data"
    }
   ],
   "source": [
    "Savings.showPlot()"
   ]
  },
  {
   "cell_type": "code",
   "execution_count": null,
   "metadata": {},
   "outputs": [],
   "source": []
  }
 ],
 "metadata": {
  "kernelspec": {
   "display_name": "Python 3",
   "language": "python",
   "name": "python3"
  },
  "language_info": {
   "codemirror_mode": {
    "name": "ipython",
    "version": 3
   },
   "file_extension": ".py",
   "mimetype": "text/x-python",
   "name": "python",
   "nbconvert_exporter": "python",
   "pygments_lexer": "ipython3",
   "version": "3.7.3"
  }
 },
 "nbformat": 4,
 "nbformat_minor": 2
}
